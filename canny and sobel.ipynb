{
 "cells": [
  {
   "cell_type": "code",
   "execution_count": null,
   "id": "2b3bb967",
   "metadata": {},
   "outputs": [],
   "source": [
    "import numpy as np\n",
    "import matplotlib.pyplot as plt"
   ]
  },
  {
   "cell_type": "code",
   "execution_count": null,
   "id": "7650a605",
   "metadata": {},
   "outputs": [],
   "source": [
    "import cv2\n",
    "\n",
    "image = cv2.imread(\"C:/Users/hp/Desktop/CV/Code/.ipynb_checkpoints/download.jpeg\")\n", //Insert the path of your image 
    "\n",
    "edges = cv2.Canny(image, 10, 20)\n",
    "\n",
    "cv2.imshow('Original Image', image)\n",
    "cv2.imshow('Edges',edges)\n",
    "\n",
    "cv2.waitkey(0)\n",
    "cv2.destroyAllWindows()"
   ]
  }
 ],
 "metadata": {
  "kernelspec": {
   "display_name": "Python 3 (ipykernel)",
   "language": "python",
   "name": "python3"
  },
  "language_info": {
   "codemirror_mode": {
    "name": "ipython",
    "version": 3
   },
   "file_extension": ".py",
   "mimetype": "text/x-python",
   "name": "python",
   "nbconvert_exporter": "python",
   "pygments_lexer": "ipython3",
   "version": "3.10.9"
  }
 },
 "nbformat": 4,
 "nbformat_minor": 5
}
